{
 "cells": [
  {
   "cell_type": "code",
   "execution_count": 16,
   "id": "7340b15b-7ec3-4b19-a0df-7f148e21553b",
   "metadata": {},
   "outputs": [
    {
     "name": "stdout",
     "output_type": "stream",
     "text": [
      "How old are you? "
     ]
    },
    {
     "name": "stdin",
     "output_type": "stream",
     "text": [
      " 22\n"
     ]
    },
    {
     "name": "stdout",
     "output_type": "stream",
     "text": [
      "How tall are you? "
     ]
    },
    {
     "name": "stdin",
     "output_type": "stream",
     "text": [
      " 280\n"
     ]
    },
    {
     "name": "stdout",
     "output_type": "stream",
     "text": [
      "How much do you weigh? "
     ]
    },
    {
     "name": "stdin",
     "output_type": "stream",
     "text": [
      " 246\n"
     ]
    },
    {
     "name": "stdout",
     "output_type": "stream",
     "text": [
      "What is your bloodtype "
     ]
    },
    {
     "name": "stdin",
     "output_type": "stream",
     "text": [
      " A\n"
     ]
    },
    {
     "name": "stdout",
     "output_type": "stream",
     "text": [
      "So, you're 22 old, 280 tall and 246 heavy.\n",
      "and, your bloodtype is A right?\n"
     ]
    }
   ],
   "source": [
    "#Ex11\n",
    "#study drill 3\n",
    "print(\"How old are you?\",end=' ')\n",
    "age = input()\n",
    "print(\"How tall are you?\", end=' ')\n",
    "height = input()\n",
    "print(\"How much do you weigh?\", end=' ')\n",
    "weight = input()\n",
    "print(\"What is your bloodtype\",end=' ')\n",
    "bloodtype = input()\n",
    "\n",
    "print(f\"So, you're {age} old, {height} tall and {weight} heavy.\")\n",
    "print(f\"and, your bloodtype is {bloodtype} right?\")\n"
   ]
  },
  {
   "cell_type": "code",
   "execution_count": 15,
   "id": "4007ca2b-209a-42fd-9010-20a93d2a4adf",
   "metadata": {},
   "outputs": [
    {
     "name": "stdin",
     "output_type": "stream",
     "text": [
      "Enter your kitty name: mou\n"
     ]
    },
    {
     "name": "stdout",
     "output_type": "stream",
     "text": [
      "Hello, you are so cute, mou!\n"
     ]
    }
   ],
   "source": [
    "#Ex11\n",
    "#study drill 2\n",
    "x = input('Enter your kitty name:')\n",
    "print('Hello, you are so cute, ' + x + \"!\")"
   ]
  },
  {
   "cell_type": "code",
   "execution_count": null,
   "id": "6cc2c42f-234e-473e-8db3-0e67e040ac5d",
   "metadata": {},
   "outputs": [],
   "source": []
  }
 ],
 "metadata": {
  "kernelspec": {
   "display_name": "Python 3 (ipykernel)",
   "language": "python",
   "name": "python3"
  },
  "language_info": {
   "codemirror_mode": {
    "name": "ipython",
    "version": 3
   },
   "file_extension": ".py",
   "mimetype": "text/x-python",
   "name": "python",
   "nbconvert_exporter": "python",
   "pygments_lexer": "ipython3",
   "version": "3.8.0"
  }
 },
 "nbformat": 4,
 "nbformat_minor": 5
}
