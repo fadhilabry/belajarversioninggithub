{
 "cells": [
  {
   "cell_type": "code",
   "execution_count": 1,
   "id": "508ea942-4d2c-4824-8898-03524015236f",
   "metadata": {},
   "outputs": [
    {
     "data": {
      "application/javascript": [
       "if (window.IPython && IPython.notebook.kernel) IPython.notebook.kernel.execute('jovian.utils.jupyter.get_notebook_name_saved = lambda: \"' + IPython.notebook.notebook_name + '\"')"
      ],
      "text/plain": [
       "<IPython.core.display.Javascript object>"
      ]
     },
     "metadata": {},
     "output_type": "display_data"
    }
   ],
   "source": [
    "import jovian"
   ]
  },
  {
   "cell_type": "code",
   "execution_count": 2,
   "id": "e2ae30eb-3f05-47ac-8589-c5c6906dac78",
   "metadata": {},
   "outputs": [
    {
     "name": "stdout",
     "output_type": "stream",
     "text": [
      "There are 10 types of people.\n",
      "Those who know binary and those who don't.\n",
      "I said: There are 10 types of people.\n",
      "I also said: 'Those who know binary and those who don't.'\n",
      "Isn't that joke so funny?! False\n",
      "This is the left side of...a string with a right side.\n"
     ]
    }
   ],
   "source": [
    "#Ex6 \n",
    "#study drills 1\n",
    "\n",
    "#pendefinisian variable\n",
    "types_of_people = 10\n",
    "\n",
    "#memasukkan variabel ke dalam string\n",
    "x = f\"There are {types_of_people} types of people.\"\n",
    "\n",
    "#mendefinisikan variabel dengan string\n",
    "binary = \"binary\"\n",
    "do_not = \"don't\"\n",
    "\n",
    "#memasukkan variabel(string) ke dalam string lain\n",
    "y = f\"Those who know {binary} and those who {do_not}.\"\n",
    "\n",
    "#print hasil variabel x dan y\n",
    "print(x)\n",
    "print(y)\n",
    "\n",
    "#print hasil variabel menggunakan string\n",
    "print(f\"I said: {x}\")\n",
    "print(f\"I also said: '{y}'\")\n",
    "\n",
    "#pendefinisian variabel\n",
    "hilarious = False\n",
    "joke_evaluation = \"Isn't that joke so funny?! {}\"\n",
    "\n",
    "#print variabel menggunakan format(karena variabel tidak didefinisikan dengan string/petik dua\n",
    "print(joke_evaluation.format(hilarious))\n",
    "\n",
    "#pendefinisian variabel string\n",
    "w = \"This is the left side of...\"\n",
    "e = \"a string with a right side.\"\n",
    "\n",
    "#print variabel yang berisi string dengan menggabungkan\n",
    "print(w + e)\n"
   ]
  },
  {
   "cell_type": "code",
   "execution_count": 4,
   "id": "408c35d8-91f7-4f80-8e0b-a959228dea50",
   "metadata": {
    "tags": []
   },
   "outputs": [
    {
     "name": "stdout",
     "output_type": "stream",
     "text": [
      "There are 10 types of people.\n",
      "Those who know binary and those who don't.\n",
      "I said: There are 10 types of people.\n",
      "I also said: 'Those who know binary and those who don't.'\n",
      "Isn't that joke so funny?! False\n",
      "This is the left side of...a string with a right side.\n"
     ]
    }
   ],
   "source": [
    "#Ex6 \n",
    "#study drills 2, 3 dan 4\n",
    "#string di dalam string ditandai kurung kurawal\n",
    "\n",
    "#(1)\n",
    "types_of_people = 10\n",
    "x = f\"There are {types_of_people} types of people.\"\n",
    "\n",
    "#(2 dan 3)\n",
    "binary = \"binary\"\n",
    "do_not = \"don't\"\n",
    "y = f\"Those who know {binary} and those who {do_not}.\"\n",
    "\n",
    "print(x)\n",
    "print(y)\n",
    "\n",
    "#(4 dan 5)\n",
    "print(f\"I said: {x}\")\n",
    "print(f\"I also said: '{y}'\")\n",
    "\n",
    "hilarious = False\n",
    "\n",
    "#(6)\n",
    "joke_evaluation = \"Isn't that joke so funny?! {}\"\n",
    "\n",
    "print(joke_evaluation.format(hilarious))\n",
    "\n",
    "w = \"This is the left side of...\"\n",
    "e = \"a string with a right side.\"\n",
    "\n",
    "print(w + e)\n",
    "\n",
    "#study drill 4\n",
    "#karena keduanya sama2 format string jadi dapat ditambahkan menghasilkan satu string"
   ]
  },
  {
   "cell_type": "code",
   "execution_count": 7,
   "id": "6fecb78c-5c08-4753-9a77-df1093f77314",
   "metadata": {},
   "outputs": [
    {
     "name": "stdout",
     "output_type": "stream",
     "text": [
      "Mary had a little lamb.\n",
      "Its fleece was white as snow.\n",
      "And everywhere that Mary went.\n",
      "..........\n",
      "Cheese Burger\n"
     ]
    }
   ],
   "source": [
    "#ex7\n",
    "#study drill 1\n",
    "\n",
    "#print out string\n",
    "print(\"Mary had a little lamb.\")\n",
    "\n",
    "#print out string dan mengganti parameter di dalam format\n",
    "print(\"Its fleece was white as {}.\".format('snow'))\n",
    "\n",
    "#print out string\n",
    "print(\"And everywhere that Mary went.\")\n",
    "\n",
    "#print out string titik sebanyak 10 kali\n",
    "print(\".\" * 10) # what'd that do?\n",
    "\n",
    "#pendefinisian parameter\n",
    "end1 = \"C\"\n",
    "end2 = \"h\"\n",
    "end3 = \"e\"\n",
    "end4 = \"e\"\n",
    "end5 = \"s\"\n",
    "end6 = \"e\"\n",
    "end7 = \"B\"\n",
    "end8 = \"u\"\n",
    "end9 = \"r\"\n",
    "end10 = \"g\"\n",
    "end11 = \"e\"\n",
    "end12 = \"r\"\n",
    "\n",
    "# watch end = ' ' at the end. try removing it to see what happens\n",
    "#tanda string kosong artinya spasidan untuk menggabungkan dua line\n",
    "#print dua kalimat variabel string dan disambungkan menggunakan petik dua kosong\n",
    "print(end1 + end2 + end3 + end4 + end5 + end6, end=' ')\n",
    "print(end7 + end8 + end9 + end10 + end11 + end12)"
   ]
  },
  {
   "cell_type": "code",
   "execution_count": 6,
   "id": "aa74877a-521d-4ea7-b232-db78e26dfa71",
   "metadata": {},
   "outputs": [
    {
     "name": "stdout",
     "output_type": "stream",
     "text": [
      "1 2 3 4\n",
      "one two three four\n",
      "True False True False\n",
      "{} {} {} {} {} {} {} {} {} {} {} {} {} {} {} {}\n",
      "try your own text here maybe a poem or a song about fear\n"
     ]
    }
   ],
   "source": [
    "#Ex8\n",
    "#Study Drill \n",
    "\n",
    "#pendefinisian parameter dengan format string\n",
    "formatter = \"{} {} {} {}\"\n",
    "\n",
    "#print sesuai format\n",
    "print (formatter. format(1,2,3,4))\n",
    "print (formatter. format(\"one\",\"two\",\"three\",\"four\"))\n",
    "print (formatter. format(True, False, True, False,))\n",
    "\n",
    "#print sesuai format dengan menambakhan parameter \"formatter\" diatas \n",
    "print (formatter. format(formatter,formatter,formatter,formatter))\n",
    "\n",
    "#print sesuai format, hasilnya akan sesuai format walaupun code nya ditulis berbeda\n",
    "print (formatter. format(\n",
    "    \"try your\",\n",
    "    \"own text here\",\n",
    "    \"maybe a poem\",\n",
    "    \"or a song about fear\"\n",
    "\n",
    "))\n",
    "    "
   ]
  },
  {
   "cell_type": "code",
   "execution_count": 9,
   "id": "6b602f39-f7ce-4cc3-a22c-0fe637fe0f92",
   "metadata": {},
   "outputs": [
    {
     "name": "stdout",
     "output_type": "stream",
     "text": [
      "Here are the days:  mon tue wed thu fri sat sun\n",
      "Here are the months:  jan\n",
      "Feb\n",
      "Mar\n",
      "Apr\n",
      "May\n",
      "Jun\n",
      "Jul\n",
      "Aug\n",
      "\n",
      "There's something going on here\n",
      "With the three double-quotes.\n",
      "We'll be able tp type as much as we like.\n",
      "Even with 4 lines if we want, or 5, or 6.\n",
      "\n"
     ]
    }
   ],
   "source": [
    "#Ex9\n",
    "#Study Drill \n",
    "\n",
    "#pendefinisian parameter\n",
    "days = \"mon tue wed thu fri sat sun\"\n",
    "#pendefinisian arameter dengan menambah \\n yang akan menghasilkan enter/baris baru\n",
    "months= \"jan\\nFeb\\nMar\\nApr\\nMay\\nJun\\nJul\\nAug\"\n",
    "\n",
    "#print parameter\n",
    "print(\"Here are the days: \", days)\n",
    "print(\"Here are the months: \", months)\n",
    "\n",
    "#print dengan tiga tanda petik untuk membuat apa yang ada di script akan tertulis sama saat code di run\n",
    "print(\"\"\"\n",
    "There's something going on here\n",
    "With the three double-quotes.\n",
    "We'll be able tp type as much as we like.\n",
    "Even with 4 lines if we want, or 5, or 6.\n",
    "\"\"\")\n"
   ]
  },
  {
   "cell_type": "code",
   "execution_count": 39,
   "id": "4e9521b6-b630-4bc5-9005-33a96c75708d",
   "metadata": {},
   "outputs": [
    {
     "name": "stdout",
     "output_type": "stream",
     "text": [
      "\tI'm tabbed in.\n",
      "I'm split\n",
      "on a line.\n",
      "I'm \\ a \\ cat.\n",
      "\n",
      "I'll do a list\n",
      "\t*Cat food\n",
      "\t*Fishies\n",
      "\t*Catnip\n",
      "\t*Grass\n",
      "\n",
      "\n",
      "I'll do a list\n",
      "\t*Dog food\n",
      "\t*Bunnies\n",
      "\t*Bone\n",
      "\t*Carrot\n",
      "\n",
      "\ttralala\t\\tralala\n",
      "tralala\n",
      "\ttralala\\\ttralala\n"
     ]
    }
   ],
   "source": [
    "#Ex10\n",
    "#Study Drill \n",
    "\n",
    "#pendefinisian parameter string\n",
    "\n",
    "#\\t untuk menambahkan tab\n",
    "tabby_cat = \"\\tI'm tabbed in.\"\n",
    "\n",
    "#\\n untuk memberi enter/memindahkan ke baris baru\n",
    "persian_cat = \"I'm split\\non a line.\"\n",
    "\n",
    "#garis miring dua akan diprint satu saja\n",
    "backlash_cat = \"I'm \\\\ a \\\\ cat.\"\n",
    "\n",
    "# petik tiga untuk menulis sesuai script saat di print\n",
    "#\\t untuk menambahkan tab\n",
    "#\\n untuk memberi enter/memindahkan ke baris baru\n",
    "fat_cat = \"\"\"\n",
    "I'll do a list\n",
    "\\t*Cat food\n",
    "\\t*Fishies\n",
    "\\t*Catnip\\n\\t*Grass\n",
    "\"\"\"\n",
    "\n",
    "#print parameter\n",
    "print(tabby_cat)\n",
    "print(persian_cat)\n",
    "print(backlash_cat)\n",
    "print(fat_cat)\n",
    "\n",
    "#study drills 2\n",
    "fluffy_cat ='''\n",
    "I'll do a list\n",
    "\\t*Dog food\n",
    "\\t*Bunnies\n",
    "\\t*Bone\\n\\t*Carrot\n",
    "'''\n",
    "#3 petik satu juga memiliki fungsi sama dengan 3 petik dua\n",
    "print(fluffy_cat)\n",
    "\n",
    "#study drills 3\n",
    "baba= \"\\ttralala\"\n",
    "bibi= \"\\t\\\\tralala\"\n",
    "bubu= \"\\ntralala\"\n",
    "bebe= \"\\n\\ttralala\"\n",
    "bobo= \"\\\\\\ttralala\"\n",
    "\n",
    "print(baba+bibi+bubu+bebe+ bobo)\n"
   ]
  },
  {
   "cell_type": "code",
   "execution_count": 29,
   "id": "9044d7fa-7d29-40f0-a3be-b8bf43b2cefe",
   "metadata": {
    "tags": []
   },
   "outputs": [
    {
     "data": {
      "application/javascript": [
       "window.require && require([\"base/js/namespace\"],function(Jupyter){Jupyter.notebook.save_checkpoint()})"
      ],
      "text/plain": [
       "<IPython.core.display.Javascript object>"
      ]
     },
     "metadata": {},
     "output_type": "display_data"
    },
    {
     "name": "stdout",
     "output_type": "stream",
     "text": [
      "[jovian] Updating notebook \"fadhil-abr/ex6-10-fadhil\" on https://jovian.ai/\u001b[0m\n",
      "[jovian] Committed successfully! https://jovian.ai/fadhil-abr/ex6-10-fadhil\u001b[0m\n"
     ]
    },
    {
     "data": {
      "text/plain": [
       "'https://jovian.ai/fadhil-abr/ex6-10-fadhil'"
      ]
     },
     "execution_count": 29,
     "metadata": {},
     "output_type": "execute_result"
    }
   ],
   "source": [
    "jovian.commit(filename='Ex6-10_Fadhil.ipynb')"
   ]
  },
  {
   "cell_type": "code",
   "execution_count": null,
   "id": "e5e5f905-2e67-4546-9b9a-b57ec6e25f34",
   "metadata": {},
   "outputs": [],
   "source": []
  },
  {
   "cell_type": "code",
   "execution_count": null,
   "id": "6c8e56ef-f328-40d9-9a38-1d15019dbfd9",
   "metadata": {},
   "outputs": [],
   "source": []
  }
 ],
 "metadata": {
  "kernelspec": {
   "display_name": "Python 3 (ipykernel)",
   "language": "python",
   "name": "python3"
  },
  "language_info": {
   "codemirror_mode": {
    "name": "ipython",
    "version": 3
   },
   "file_extension": ".py",
   "mimetype": "text/x-python",
   "name": "python",
   "nbconvert_exporter": "python",
   "pygments_lexer": "ipython3",
   "version": "3.8.0"
  }
 },
 "nbformat": 4,
 "nbformat_minor": 5
}
